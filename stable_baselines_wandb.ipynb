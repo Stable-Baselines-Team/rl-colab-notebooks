{
 "cells": [
  {
   "cell_type": "markdown",
   "metadata": {},
   "source": [
    "<a href=\"https://colab.research.google.com/github/Stable-Baselines-Team/rl-colab-notebooks/blob/sb3/stable_baselines_wandb.ipynb\" target=\"_parent\"><img src=\"https://colab.research.google.com/assets/colab-badge.svg\" alt=\"Open In Colab\"/></a>"
   ]
  },
  {
   "cell_type": "markdown",
   "metadata": {
    "id": "fA1yucrYKx0Q"
   },
   "source": [
    "# Stable Baselines - Track Experiments with Weights and Biases\n",
    "\n",
    "Github repo: https://github.com/araffin/rl-tutorial-jnrr19\n",
    "\n",
    "Stable-Baselines3: https://github.com/DLR-RM/stable-baselines3\n",
    "\n",
    "Documentation: https://stable-baselines.readthedocs.io/en/master/\n",
    "\n",
    "RL Baselines3 zoo: https://github.com/DLR-RM/rl-baselines3-zoo\n",
    "\n",
    "Weights & Biases: https://wandb.ai/site\n",
    "\n",
    "Weights & Biases Docs: https://docs.wandb.ai/\n",
    "\n",
    "\n",
    "## Introduction\n",
    "\n",
    "[Weights & Biases (W&B)](https://wandb.ai/site) is a tool for machine learning experiment tracking, dataset versioning, and project collaboration.\n",
    "\n",
    "<div><img /></div>\n",
    "\n",
    "<img src=\"https://i.imgur.com/uEtWSEb.png\" width=\"650\" alt=\"Weights & Biases\" />\n",
    "\n",
    "<div><img /></div>\n",
    "\n",
    "In this notebook, you will learn how to track reinforcement learning experiments using W&B. In particular, W&B helps track your experiment configs, metrics, and videos of the agents playing the game. At the end, you should see a run page like https://wandb.ai/wandb/cartpole_test/runs/37ppqzxc \n",
    "\n",
    "## Install Dependencies and Set up Virtual Displays for Video Recordings\n",
    "\n"
   ]
  },
  {
   "cell_type": "code",
   "execution_count": null,
   "metadata": {
    "id": "47bVDhSDPywL"
   },
   "outputs": [],
   "source": [
    "!apt-get update && apt-get install python-opengl xvfb\n",
    "!pip install pyvirtualdisplay stable_baselines3[extra] wandb"
   ]
  },
  {
   "cell_type": "code",
   "execution_count": null,
   "metadata": {},
   "outputs": [],
   "source": [
    "from pyvirtualdisplay import Display\n",
    "virtual_display = Display(visible=0, size=(1400, 900))\n",
    "virtual_display.start()"
   ]
  },
  {
   "cell_type": "markdown",
   "metadata": {
    "id": "nPlCXGwWFPTI"
   },
   "source": [
    "## Track experiments with W&B\n",
    "\n",
    "Here is a clean end-to-end example to run. It will prompt you to login in to W&B if you haven't. \n"
   ]
  },
  {
   "cell_type": "code",
   "execution_count": null,
   "metadata": {
    "id": "U99BWKenKcuv"
   },
   "outputs": [],
   "source": [
    "import gym\n",
    "import wandb\n",
    "import numpy as np\n",
    "from stable_baselines3 import PPO\n",
    "from stable_baselines3.common.vec_env import DummyVecEnv\n",
    "\n",
    "def make_env():\n",
    "    env = gym.make(\"CartPole-v1\", render_mode=\"rgb_array\")\n",
    "    env = gym.wrappers.RecordVideo(env, f\"videos\")  # record videos\n",
    "    env = gym.wrappers.RecordEpisodeStatistics(env)  # record stats such as returns\n",
    "    return env\n",
    "\n",
    "config = {\n",
    "    \"policy\": 'MlpPolicy',\n",
    "    \"total_timesteps\": 25000\n",
    "}\n",
    "\n",
    "wandb.init(\n",
    "    config=config,\n",
    "    sync_tensorboard=True,  # automatically upload SB3's tensorboard metrics to W&B\n",
    "    project=\"CartPole-v1\",\n",
    "    monitor_gym=True,       # automatically upload gym environements' videos\n",
    "    save_code=True,\n",
    ")\n",
    "\n",
    "env = DummyVecEnv([make_env])\n",
    "model = PPO(config['policy'], env, verbose=1, tensorboard_log=f\"runs/ppo\")\n",
    "model.learn(total_timesteps=config['total_timesteps'])\n",
    "wandb.finish()"
   ]
  },
  {
   "cell_type": "markdown",
   "metadata": {},
   "source": [
    "After finishing the cell above you should see a dashboard similar to the gif below:\n",
    "\n",
    "![](https://user-images.githubusercontent.com/5555347/122989248-97b5bd00-d370-11eb-95d6-52d56cfbce19.gif)"
   ]
  },
  {
   "cell_type": "markdown",
   "metadata": {},
   "source": []
  }
 ],
 "metadata": {
  "accelerator": "GPU",
  "colab": {
   "collapsed_sections": [],
   "name": "W&B and SB3.ipynb",
   "provenance": []
  },
  "kernelspec": {
   "display_name": "Python 3 (ipykernel)",
   "language": "python",
   "name": "python3"
  },
  "language_info": {
   "codemirror_mode": {
    "name": "ipython",
    "version": 3
   },
   "file_extension": ".py",
   "mimetype": "text/x-python",
   "name": "python",
   "nbconvert_exporter": "python",
   "pygments_lexer": "ipython3",
   "version": "3.11.0"
  }
 },
 "nbformat": 4,
 "nbformat_minor": 4
}
